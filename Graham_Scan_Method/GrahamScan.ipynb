{
 "cells": [
  {
   "cell_type": "code",
   "execution_count": 1,
   "metadata": {
    "collapsed": true,
    "pycharm": {
     "name": "#%%\n"
    }
   },
   "outputs": [],
   "source": [
    "import numpy as np\n",
    "import matplotlib.pyplot as plt"
   ]
  },
  {
   "cell_type": "code",
   "execution_count": 2,
   "outputs": [],
   "source": [
    "# Number of points\n",
    "N = 100"
   ],
   "metadata": {
    "collapsed": false,
    "pycharm": {
     "name": "#%%\n"
    }
   }
  },
  {
   "cell_type": "code",
   "execution_count": 3,
   "outputs": [
    {
     "data": {
      "text/plain": "[(289, 76),\n (126, 46),\n (114, 95),\n (229, 108),\n (153, 95),\n (286, 251),\n (286, 223),\n (46, 165),\n (91, 270),\n (52, 47),\n (250, 182),\n (255, 165),\n (139, 142),\n (141, 229),\n (153, 76),\n (70, 254),\n (20, 274),\n (152, 247),\n (248, 86),\n (93, 251),\n (130, 94),\n (244, 68),\n (228, 136),\n (268, 45),\n (131, 245),\n (184, 154),\n (95, 266),\n (5, 148),\n (136, 237),\n (176, 61),\n (127, 184),\n (240, 196),\n (217, 293),\n (211, 286),\n (112, 240),\n (239, 230),\n (258, 127),\n (236, 261),\n (6, 215),\n (36, 0),\n (213, 67),\n (186, 147),\n (162, 143),\n (69, 13),\n (191, 230),\n (166, 2),\n (254, 278),\n (80, 215),\n (18, 288),\n (163, 188),\n (177, 182),\n (69, 96),\n (143, 125),\n (159, 68),\n (290, 168),\n (143, 196),\n (202, 103),\n (140, 66),\n (56, 75),\n (85, 80),\n (216, 240),\n (73, 75),\n (4, 90),\n (25, 145),\n (255, 148),\n (208, 131),\n (225, 16),\n (14, 197),\n (268, 88),\n (199, 268),\n (124, 173),\n (63, 168),\n (135, 154),\n (191, 188),\n (104, 147),\n (58, 106),\n (58, 275),\n (283, 286),\n (28, 180),\n (229, 122),\n (225, 247),\n (100, 133),\n (29, 287),\n (45, 214),\n (30, 197),\n (31, 200),\n (192, 199),\n (188, 19),\n (196, 73),\n (130, 157),\n (15, 158),\n (88, 126),\n (36, 146),\n (155, 136),\n (153, 294),\n (278, 134),\n (117, 207),\n (123, 78),\n (275, 120),\n (91, 167)]"
     },
     "execution_count": 3,
     "metadata": {},
     "output_type": "execute_result"
    }
   ],
   "source": [
    "# Initial a random set of N points with coordinates in [0,300)x[0,300):\n",
    "P = [(np.random.randint(0, 300), np.random.randint(0, 300)) for _ in range(N)]\n",
    "P"
   ],
   "metadata": {
    "collapsed": false,
    "pycharm": {
     "name": "#%%\n"
    }
   }
  },
  {
   "cell_type": "markdown",
   "source": [
    "Graham Scan Algorithm"
   ],
   "metadata": {
    "collapsed": false,
    "pycharm": {
     "name": "#%% md\n"
    }
   }
  },
  {
   "cell_type": "code",
   "execution_count": 4,
   "outputs": [],
   "source": [
    "def RightTurn(p1, p2, p3):\n",
    "    if (p3[1] - p1[1]) * (p2[0] - p1[0]) >= (p2[1] - p1[1]) * (p3[0] - p1[0]):\n",
    "        return False\n",
    "    return True"
   ],
   "metadata": {
    "collapsed": false,
    "pycharm": {
     "name": "#%%\n"
    }
   }
  },
  {
   "cell_type": "code",
   "execution_count": 5,
   "outputs": [
    {
     "data": {
      "text/plain": "[(4, 90),\n (5, 148),\n (6, 215),\n (14, 197),\n (15, 158),\n (18, 288),\n (20, 274),\n (25, 145),\n (28, 180),\n (29, 287),\n (30, 197),\n (31, 200),\n (36, 0),\n (36, 146),\n (45, 214),\n (46, 165),\n (52, 47),\n (56, 75),\n (58, 106),\n (58, 275),\n (63, 168),\n (69, 13),\n (69, 96),\n (70, 254),\n (73, 75),\n (80, 215),\n (85, 80),\n (88, 126),\n (91, 167),\n (91, 270),\n (93, 251),\n (95, 266),\n (100, 133),\n (104, 147),\n (112, 240),\n (114, 95),\n (117, 207),\n (123, 78),\n (124, 173),\n (126, 46),\n (127, 184),\n (130, 94),\n (130, 157),\n (131, 245),\n (135, 154),\n (136, 237),\n (139, 142),\n (140, 66),\n (141, 229),\n (143, 125),\n (143, 196),\n (152, 247),\n (153, 76),\n (153, 95),\n (153, 294),\n (155, 136),\n (159, 68),\n (162, 143),\n (163, 188),\n (166, 2),\n (176, 61),\n (177, 182),\n (184, 154),\n (186, 147),\n (188, 19),\n (191, 188),\n (191, 230),\n (192, 199),\n (196, 73),\n (199, 268),\n (202, 103),\n (208, 131),\n (211, 286),\n (213, 67),\n (216, 240),\n (217, 293),\n (225, 16),\n (225, 247),\n (228, 136),\n (229, 108),\n (229, 122),\n (236, 261),\n (239, 230),\n (240, 196),\n (244, 68),\n (248, 86),\n (250, 182),\n (254, 278),\n (255, 148),\n (255, 165),\n (258, 127),\n (268, 45),\n (268, 88),\n (275, 120),\n (278, 134),\n (283, 286),\n (286, 223),\n (286, 251),\n (289, 76),\n (290, 168)]"
     },
     "execution_count": 5,
     "metadata": {},
     "output_type": "execute_result"
    }
   ],
   "source": [
    "# 1. Sort the set of points\n",
    "P.sort()\n",
    "P"
   ],
   "metadata": {
    "collapsed": false,
    "pycharm": {
     "name": "#%%\n"
    }
   }
  },
  {
   "cell_type": "code",
   "execution_count": 6,
   "outputs": [],
   "source": [
    "# 2. Initialize upper part\n",
    "L_upper = [P[0], P[1]]"
   ],
   "metadata": {
    "collapsed": false,
    "pycharm": {
     "name": "#%%\n"
    }
   }
  },
  {
   "cell_type": "code",
   "execution_count": 7,
   "outputs": [],
   "source": [
    "# 3. Compute the upper part of the hull\n",
    "for i in range(2, len(P)):\n",
    "    L_upper.append(P[i])\n",
    "    while len(L_upper) > 2 and not RightTurn(L_upper[-1], L_upper[-2], L_upper[-3]):\n",
    "        del L_upper[-2]"
   ],
   "metadata": {
    "collapsed": false,
    "pycharm": {
     "name": "#%%\n"
    }
   }
  },
  {
   "cell_type": "code",
   "execution_count": 8,
   "outputs": [
    {
     "data": {
      "text/plain": "[(4, 90), (36, 0), (166, 2), (225, 16), (268, 45), (289, 76), (290, 168)]"
     },
     "execution_count": 8,
     "metadata": {},
     "output_type": "execute_result"
    }
   ],
   "source": [
    "L_upper"
   ],
   "metadata": {
    "collapsed": false,
    "pycharm": {
     "name": "#%%\n"
    }
   }
  },
  {
   "cell_type": "code",
   "execution_count": 9,
   "outputs": [],
   "source": [
    "# 4. Initialize the lower part\n",
    "L_lower = [P[-1], P[-2]]"
   ],
   "metadata": {
    "collapsed": false,
    "pycharm": {
     "name": "#%%\n"
    }
   }
  },
  {
   "cell_type": "code",
   "execution_count": 10,
   "outputs": [],
   "source": [
    "# 5. Compute the lower part of the hull\n",
    "for i in range(len(P) - 3, -1, -1):\n",
    "    L_lower.append(P[i])\n",
    "    while len(L_lower) > 2 and not RightTurn(L_lower[-1], L_lower[-2], L_lower[-3]):\n",
    "        del L_lower[-2]"
   ],
   "metadata": {
    "collapsed": false,
    "pycharm": {
     "name": "#%%\n"
    }
   }
  },
  {
   "cell_type": "code",
   "execution_count": 11,
   "outputs": [
    {
     "data": {
      "text/plain": "[(290, 168),\n (286, 251),\n (283, 286),\n (217, 293),\n (153, 294),\n (18, 288),\n (6, 215),\n (4, 90)]"
     },
     "execution_count": 11,
     "metadata": {},
     "output_type": "execute_result"
    }
   ],
   "source": [
    "L_lower"
   ],
   "metadata": {
    "collapsed": false,
    "pycharm": {
     "name": "#%%\n"
    }
   }
  },
  {
   "cell_type": "code",
   "execution_count": 12,
   "outputs": [],
   "source": [
    "# delete two point has been init\n",
    "del L_lower[0]\n",
    "del L_lower[-1]"
   ],
   "metadata": {
    "collapsed": false,
    "pycharm": {
     "name": "#%%\n"
    }
   }
  },
  {
   "cell_type": "code",
   "execution_count": 13,
   "outputs": [
    {
     "data": {
      "text/plain": "[(4, 90),\n (36, 0),\n (166, 2),\n (225, 16),\n (268, 45),\n (289, 76),\n (290, 168),\n (286, 251),\n (283, 286),\n (217, 293),\n (153, 294),\n (18, 288),\n (6, 215)]"
     },
     "execution_count": 13,
     "metadata": {},
     "output_type": "execute_result"
    }
   ],
   "source": [
    "# 6. Build the full hull\n",
    "L = L_upper + L_lower\n",
    "L"
   ],
   "metadata": {
    "collapsed": false,
    "pycharm": {
     "name": "#%%\n"
    }
   }
  },
  {
   "cell_type": "code",
   "execution_count": 14,
   "outputs": [],
   "source": [
    "# figure out result\n",
    "def draw(L, P, path=None):\n",
    "    plt.figure()\n",
    "    plt.plot(L[:, 0], L[:, 1], 'b-', picker=5)\n",
    "    plt.plot([L[-1, 0], L[0, 0]], [L[-1, 1], L[0, 1]], 'b-', picker=5)\n",
    "    plt.plot(P[:, 0], P[:, 1], \".r\")\n",
    "    plt.axis('off')\n",
    "    if path:\n",
    "        plt.savefig(path)\n",
    "    plt.show()"
   ],
   "metadata": {
    "collapsed": false,
    "pycharm": {
     "name": "#%%\n"
    }
   }
  },
  {
   "cell_type": "code",
   "execution_count": 17,
   "outputs": [
    {
     "data": {
      "text/plain": "<Figure size 640x480 with 1 Axes>",
      "image/png": "[encoded data removed]"
     },
     "metadata": {},
     "output_type": "display_data"
    }
   ],
   "source": [
    "# Plot the computed Convex_Hull:\n",
    "result_path = 'Graham_Scan_Result.png'\n",
    "L = np.array(L)\n",
    "P = np.array(P)\n",
    "draw(L, P, path=result_path)"
   ],
   "metadata": {
    "collapsed": false,
    "pycharm": {
     "name": "#%%\n"
    }
   }
  },
  {
   "cell_type": "code",
   "execution_count": null,
   "outputs": [],
   "source": [],
   "metadata": {
    "collapsed": false,
    "pycharm": {
     "name": "#%%\n"
    }
   }
  }
 ],
 "metadata": {
  "kernelspec": {
   "display_name": "Python 3",
   "language": "python",
   "name": "python3"
  },
  "language_info": {
   "codemirror_mode": {
    "name": "ipython",
    "version": 2
   },
   "file_extension": ".py",
   "mimetype": "text/x-python",
   "name": "python",
   "nbconvert_exporter": "python",
   "pygments_lexer": "ipython2",
   "version": "2.7.6"
  }
 },
 "nbformat": 4,
 "nbformat_minor": 0
}