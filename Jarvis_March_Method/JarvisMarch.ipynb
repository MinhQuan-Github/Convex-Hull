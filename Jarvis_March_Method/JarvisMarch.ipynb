{
 "cells": [
  {
   "cell_type": "code",
   "execution_count": 14,
   "metadata": {
    "collapsed": true,
    "pycharm": {
     "name": "#%%\n"
    }
   },
   "outputs": [],
   "source": [
    "import numpy as np\n",
    "import matplotlib.pyplot as plt"
   ]
  },
  {
   "cell_type": "code",
   "execution_count": 15,
   "outputs": [],
   "source": [
    "# Number of points\n",
    "N = 100"
   ],
   "metadata": {
    "collapsed": false,
    "pycharm": {
     "name": "#%%\n"
    }
   }
  },
  {
   "cell_type": "code",
   "execution_count": 16,
   "outputs": [
    {
     "data": {
      "text/plain": "array([[ 71, 195],\n       [ 54,  22],\n       [187, 221],\n       [102,   8],\n       [112,  71],\n       [191, 118],\n       [285, 179],\n       [128, 148],\n       [ 40,   2],\n       [ 62,  98],\n       [229, 154],\n       [137,  71],\n       [267,  36],\n       [252,  98],\n       [167, 101],\n       [218,  11],\n       [218,   9],\n       [294, 222],\n       [ 61, 163],\n       [182, 132],\n       [195,  57],\n       [292, 156],\n       [273,  50],\n       [134, 104],\n       [223, 146],\n       [155,  47],\n       [ 99, 154],\n       [119, 258],\n       [242, 240],\n       [250, 188],\n       [105, 112],\n       [283, 166],\n       [181, 252],\n       [ 89, 100],\n       [ 97,  85],\n       [169, 153],\n       [ 39, 188],\n       [ 37,   4],\n       [  6, 261],\n       [118, 139],\n       [193, 288],\n       [282,  78],\n       [268, 290],\n       [120, 180],\n       [272, 276],\n       [281, 244],\n       [192, 249],\n       [115, 133],\n       [239,  42],\n       [ 65, 113],\n       [182, 190],\n       [149, 244],\n       [124, 160],\n       [291, 262],\n       [ 70, 184],\n       [203,  58],\n       [109, 162],\n       [218, 296],\n       [ 94, 252],\n       [ 51,  29],\n       [153, 227],\n       [173,  79],\n       [173, 208],\n       [187, 246],\n       [161, 150],\n       [ 57, 201],\n       [216, 134],\n       [206, 125],\n       [156, 157],\n       [ 18,  79],\n       [ 27,  37],\n       [181, 205],\n       [ 99, 254],\n       [ 37, 114],\n       [295, 299],\n       [231,   8],\n       [296, 221],\n       [111, 288],\n       [170, 289],\n       [ 23,  73],\n       [270,  81],\n       [ 18, 279],\n       [150,  72],\n       [ 33,  12],\n       [148, 221],\n       [192, 162],\n       [ 82, 145],\n       [194, 263],\n       [221,  48],\n       [192, 223],\n       [ 18, 191],\n       [104, 155],\n       [233, 274],\n       [  1, 289],\n       [ 94,  54],\n       [196,  17],\n       [ 35, 229],\n       [161,  41],\n       [ 44, 260],\n       [ 99,  93]])"
     },
     "execution_count": 16,
     "metadata": {},
     "output_type": "execute_result"
    }
   ],
   "source": [
    "# Initial a random set of N points with coordinates in [0,300)x[0,300):\n",
    "P = np.array([(np.random.randint(0, 300), np.random.randint(0, 300)) for _ in range(N)])\n",
    "P"
   ],
   "metadata": {
    "collapsed": false,
    "pycharm": {
     "name": "#%%\n"
    }
   }
  },
  {
   "cell_type": "code",
   "execution_count": 17,
   "outputs": [],
   "source": [
    "# Function to know if we have a CCW turn\n",
    "def CCW(p1, p2, p3):\n",
    "\tif (p3[1] - p1[1]) * (p2[0] - p1[0]) >= (p2[1] - p1[1]) * (p3[0] - p1[0]):\n",
    "\t\treturn True\n",
    "\treturn False"
   ],
   "metadata": {
    "collapsed": false,
    "pycharm": {
     "name": "#%%\n"
    }
   }
  },
  {
   "cell_type": "code",
   "execution_count": 18,
   "outputs": [],
   "source": [
    "n = len(P)\n",
    "result = [None] * n\n",
    "l = np.where(P[:,0] == np.min(P[:,0]))\n",
    "pointOnHull = P[l[0][0]]"
   ],
   "metadata": {
    "collapsed": false,
    "pycharm": {
     "name": "#%%\n"
    }
   }
  },
  {
   "cell_type": "code",
   "execution_count": 19,
   "outputs": [],
   "source": [
    "i = 0\n",
    "while True:\n",
    "    result[i] = pointOnHull\n",
    "    endpoint = P[0]\n",
    "    for j in range(1,n):\n",
    "        if (endpoint[0] == pointOnHull[0] and endpoint[1] == pointOnHull[1]) or not CCW(P[j], result[i], endpoint):\n",
    "            endpoint = P[j]\n",
    "    i = i + 1\n",
    "    pointOnHull = endpoint\n",
    "    if endpoint[0] == result[0][0] and endpoint[1] == result[0][1]:\n",
    "        break"
   ],
   "metadata": {
    "collapsed": false,
    "pycharm": {
     "name": "#%%\n"
    }
   }
  },
  {
   "cell_type": "code",
   "execution_count": 20,
   "outputs": [],
   "source": [
    "for i in range(n):\n",
    "    if result[-1] is None:\n",
    "        del result[-1]"
   ],
   "metadata": {
    "collapsed": false,
    "pycharm": {
     "name": "#%%\n"
    }
   }
  },
  {
   "cell_type": "code",
   "execution_count": 21,
   "outputs": [],
   "source": [
    "L = np.array(result)"
   ],
   "metadata": {
    "collapsed": false,
    "pycharm": {
     "name": "#%%\n"
    }
   }
  },
  {
   "cell_type": "code",
   "execution_count": 22,
   "outputs": [],
   "source": [
    "# figure out result\n",
    "def draw(L, P, path=None):\n",
    "    plt.figure()\n",
    "    plt.plot(L[:, 0], L[:, 1], 'b-', picker=5)\n",
    "    plt.plot([L[-1, 0], L[0, 0]], [L[-1, 1], L[0, 1]], 'b-', picker=5)\n",
    "    plt.plot(P[:, 0], P[:, 1], \".r\")\n",
    "    plt.axis('off')\n",
    "    if path:\n",
    "        plt.savefig(path)\n",
    "    plt.show()"
   ],
   "metadata": {
    "collapsed": false,
    "pycharm": {
     "name": "#%%\n"
    }
   }
  },
  {
   "cell_type": "code",
   "execution_count": 24,
   "outputs": [
    {
     "data": {
      "text/plain": "<Figure size 640x480 with 1 Axes>",
      "image/png": "[encoded data removed]"
     },
     "metadata": {},
     "output_type": "display_data"
    }
   ],
   "source": [
    "result_path = 'Jarvis_March_Result.png'\n",
    "draw(L, P, path=result_path)"
   ],
   "metadata": {
    "collapsed": false,
    "pycharm": {
     "name": "#%%\n"
    }
   }
  },
  {
   "cell_type": "code",
   "execution_count": null,
   "outputs": [],
   "source": [],
   "metadata": {
    "collapsed": false,
    "pycharm": {
     "name": "#%%\n"
    }
   }
  }
 ],
 "metadata": {
  "kernelspec": {
   "display_name": "Python 3",
   "language": "python",
   "name": "python3"
  },
  "language_info": {
   "codemirror_mode": {
    "name": "ipython",
    "version": 2
   },
   "file_extension": ".py",
   "mimetype": "text/x-python",
   "name": "python",
   "nbconvert_exporter": "python",
   "pygments_lexer": "ipython2",
   "version": "2.7.6"
  }
 },
 "nbformat": 4,
 "nbformat_minor": 0
}